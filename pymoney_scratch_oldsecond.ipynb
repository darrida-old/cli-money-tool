{
 "cells": [
  {
   "cell_type": "code",
   "execution_count": null,
   "metadata": {},
   "outputs": [],
   "source": [
    "# Standard Library\n",
    "import sqlite3\n",
    "from pathlib import *\n",
    "\n",
    "# PYPI\n",
    "import click\n",
    "\n",
    "# Local\n",
    "import db_classes as data\n",
    "import import_classes as imp"
   ]
  },
  {
   "cell_type": "code",
   "execution_count": null,
   "metadata": {},
   "outputs": [],
   "source": [
    "with data.database() as db:\n",
    "    db.create_tables()"
   ]
  },
  {
   "cell_type": "code",
   "execution_count": null,
   "metadata": {},
   "outputs": [],
   "source": [
    "with data.database() as db:\n",
    "    print(db.sum_transactions_all('Checking'))"
   ]
  },
  {
   "cell_type": "code",
   "execution_count": null,
   "metadata": {},
   "outputs": [],
   "source": [
    "# Standard\n",
    "import csv\n",
    "import pprint\n",
    "\n",
    "# Local\n",
    "import db_classes as data\n",
    "\n",
    "def import_oldsecond(name):\n",
    "    # IMPORT OLDSECOND CSV FILE\n",
    "    data_location = '..\\_appdata\\cli_money_tool\\\\'\n",
    "    reader = csv.DictReader(open(data_location + name, 'r'))\n",
    "    dict_list = []\n",
    "    for line in reader:\n",
    "        dict_list.append(line)\n",
    "    total = 0\n",
    "\n",
    "    with data.database() as db:\n",
    "        # QUERY EXISTING RECORDS IN TRANSACTIONS TABLE\n",
    "        existing = db.execute('''SELECT * FROM transactions''').fetchall()\n",
    "        print(len(existing))\n",
    "        for i in dict_list:\n",
    "            insert = True\n",
    "            if len(existing) > 0:\n",
    "                # CHECK IF MATCHING RECORD EXISTS ALREADY. IF SO, INSERT = FALSE\n",
    "                for transaction in existing:\n",
    "                    amount = ((float(i['Amount']) * -1) if i['CR/DR'] == 'DR' else float(i['Amount']))\n",
    "                    if (transaction[1].replace(\" \", \"\") == i['Account Designator'].replace(\" \", \"\") and \\\n",
    "                        transaction[2].replace(\" \", \"\") == i['Posted Date'].replace(\" \", \"\") and \\\n",
    "                        transaction[3].replace(\" \", \"\") == i['Description'].replace(\" \", \"\") and \\\n",
    "                        float(transaction[4]) == amount and \\\n",
    "                        float(transaction[5]) == float(i['Serial Number'])) == True:\n",
    "                        insert = False\n",
    "                        print(i)\n",
    "                        print(transaction)\n",
    "            if insert:\n",
    "                if i['CR/DR'] == 'DR':\n",
    "                    i['Amount'] = str(float(i['Amount']) * -1)\n",
    "                record = data.transactions(\n",
    "                    id=None,\n",
    "                    account=i['Account Designator'],\n",
    "                    date=i['Posted Date'],\n",
    "                    description=i['Description'],\n",
    "                    amount=i['Amount'],\n",
    "                    misc=i['Serial Number']\n",
    "                )\n",
    "                db.insert(record)\n",
    "                      \n",
    "def select_transactions():\n",
    "    with data.database() as db:\n",
    "        existing = db.execute('''SELECT * FROM transactions''').fetchall()\n",
    "        for i in existing:\n",
    "            print(i)"
   ]
  },
  {
   "cell_type": "code",
   "execution_count": null,
   "metadata": {
    "scrolled": true
   },
   "outputs": [],
   "source": [
    "home_dir = Path.home()\n",
    "imp.import_oldsecond('checking_transactions.csv')\n"
   ]
  },
  {
   "cell_type": "code",
   "execution_count": null,
   "metadata": {},
   "outputs": [],
   "source": [
    "select_transactions()"
   ]
  },
  {
   "cell_type": "code",
   "execution_count": null,
   "metadata": {},
   "outputs": [],
   "source": [
    "imp.import_oldsecond('download.CSV')"
   ]
  },
  {
   "cell_type": "code",
   "execution_count": null,
   "metadata": {},
   "outputs": [],
   "source": [
    "string = Path(Path.home() / 'Documents' / 'GitHub' / '_appdata' / 'cli_money_tool').mkdir(parents=True, exist_ok=True)"
   ]
  },
  {
   "cell_type": "code",
   "execution_count": null,
   "metadata": {},
   "outputs": [],
   "source": [
    "print(string)"
   ]
  }
 ],
 "metadata": {
  "kernelspec": {
   "display_name": "Python 3",
   "language": "python",
   "name": "python3"
  },
  "language_info": {
   "codemirror_mode": {
    "name": "ipython",
    "version": 3
   },
   "file_extension": ".py",
   "mimetype": "text/x-python",
   "name": "python",
   "nbconvert_exporter": "python",
   "pygments_lexer": "ipython3",
   "version": "3.6.5"
  }
 },
 "nbformat": 4,
 "nbformat_minor": 4
}
