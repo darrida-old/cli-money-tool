{
 "cells": [
  {
   "cell_type": "code",
   "execution_count": null,
   "metadata": {},
   "outputs": [],
   "source": [
    "import csv\n",
    "import json\n",
    "import pprint"
   ]
  },
  {
   "cell_type": "code",
   "execution_count": null,
   "metadata": {},
   "outputs": [],
   "source": [
    "data_location = '..\\_appdata\\cli_money_tool\\\\'\n",
    "\n",
    "reader = csv.DictReader(open(data_location + 'download.CSV', 'r'))"
   ]
  },
  {
   "cell_type": "code",
   "execution_count": null,
   "metadata": {},
   "outputs": [],
   "source": [
    "dict_list = []\n",
    "for line in reader:\n",
    "    dict_list.append(line)"
   ]
  },
  {
   "cell_type": "code",
   "execution_count": null,
   "metadata": {},
   "outputs": [],
   "source": [
    "total = 0\n",
    "\n",
    "for i in dict_list:\n",
    "    if i['CR/DR'] == 'DR' and float(i['Amount']) > 50.00:\n",
    "        total += float(i['Amount'])\n",
    "        pprint.pprint(f\"\"\"AMOUNT: ${float(i['Amount'])}\n",
    "DESCRIPTION: {i['Description']}\"\"\")\n",
    "print(f'Total: ${total}')"
   ]
  },
  {
   "cell_type": "code",
   "execution_count": null,
   "metadata": {},
   "outputs": [],
   "source": [
    "total = 0\n",
    "\n",
    "for i in dict_list:\n",
    "    if i['CR/DR'] == 'CR':\n",
    "        total += float(i['Amount'])\n",
    "        #pprint.pprint(f\"${float(i['Amount'])}\")\n",
    "print(f'Total: ${total}')"
   ]
  },
  {
   "cell_type": "code",
   "execution_count": null,
   "metadata": {},
   "outputs": [],
   "source": [
    "total = 0\n",
    "\n",
    "for i in dict_list:\n",
    "    if i['CR/DR'] == 'DR':\n",
    "        pprint.pprint(i)\n",
    "print(f'Total: ${total}')"
   ]
  }
 ],
 "metadata": {
  "kernelspec": {
   "display_name": "Python 3",
   "language": "python",
   "name": "python3"
  },
  "language_info": {
   "codemirror_mode": {
    "name": "ipython",
    "version": 3
   },
   "file_extension": ".py",
   "mimetype": "text/x-python",
   "name": "python",
   "nbconvert_exporter": "python",
   "pygments_lexer": "ipython3",
   "version": "3.6.5"
  }
 },
 "nbformat": 4,
 "nbformat_minor": 4
}
