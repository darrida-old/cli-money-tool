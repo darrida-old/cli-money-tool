{
 "cells": [
  {
   "cell_type": "code",
   "execution_count": null,
   "metadata": {},
   "outputs": [],
   "source": [
    "# Standard Library\n",
    "import sqlite3\n",
    "from pathlib import *\n",
    "import csv\n",
    "\n",
    "# PYPI\n",
    "import click\n",
    "\n",
    "# Local\n",
    "import db_classes as data\n",
    "import import_classes as imp"
   ]
  },
  {
   "cell_type": "code",
   "execution_count": null,
   "metadata": {},
   "outputs": [],
   "source": [
    "with data.database() as db:\n",
    "    db.create_tables()"
   ]
  },
  {
   "cell_type": "code",
   "execution_count": null,
   "metadata": {},
   "outputs": [],
   "source": [
    "# IMPORT CHASE CSV FILE\n",
    "name = 'chase_transactions.csv'\n",
    "data_location = str(Path('G:\\sync.com\\Sync\\pymoney\\\\'))\n",
    "reader = csv.DictReader(open(data_location + '\\\\' + name, 'r'))\n",
    "dict_list = []\n",
    "for line in reader:\n",
    "    dict_list.append(line)\n",
    "total = 0"
   ]
  },
  {
   "cell_type": "code",
   "execution_count": null,
   "metadata": {},
   "outputs": [],
   "source": [
    "for i in dict_list[0:10]:\n",
    "    print(i)"
   ]
  },
  {
   "cell_type": "code",
   "execution_count": null,
   "metadata": {},
   "outputs": [],
   "source": [
    "with data.database() as db:\n",
    "    print(db.sum_transactions_all('Checking'))"
   ]
  },
  {
   "cell_type": "code",
   "execution_count": null,
   "metadata": {},
   "outputs": [],
   "source": [
    "# Standard\n",
    "import csv\n",
    "import pprint\n",
    "\n",
    "# Local\n",
    "import db_classes as data\n",
    "\n",
    "def import_chase(name):\n",
    "    # IMPORT CHASE CSV FILE\n",
    "    name = 'chase_transactions.csv'\n",
    "    data_location = str(Path('G:\\sync.com\\Sync\\pymoney\\\\'))\n",
    "    reader = csv.DictReader(open(data_location + '\\\\' + name, 'r'))\n",
    "    dict_list = []\n",
    "    for line in reader:\n",
    "        dict_list.append(line)\n",
    "    total = 0\n",
    "\n",
    "    \n",
    "    with data.database() as db:\n",
    "        # QUERY EXISTING RECORDS IN TRANSACTIONS TABLE\n",
    "        count = 0\n",
    "        existing = db.execute('''SELECT * FROM transactions WHERE account = 'chase' ''').fetchall()\n",
    "        click.echo(f'Existing Transactions: {str(len(existing))}')\n",
    "        for i in dict_list:\n",
    "            insert = True\n",
    "            if len(existing) > 0:\n",
    "                # CHECK IF MATCHING RECORD EXISTS ALREADY. IF SO, INSERT = FALSE\n",
    "                for transaction in existing:\n",
    "                    if (transaction[1].replace(\" \", \"\") == 'chase' and \\\n",
    "                        transaction[2].replace(\" \", \"\") == i['Post Date'].replace(\" \", \"\") and \\\n",
    "                        transaction[3].replace(\" \", \"\") == i['Description'].replace(\" \", \"\") and \\\n",
    "                        float(transaction[4]) == float(i['Amount']) and \\\n",
    "                        transaction[5] == 'None') == True: #float(i['Serial Number'])) == True:\n",
    "                        insert = False\n",
    "            if insert:\n",
    "                record = data.transactions(\n",
    "                    id=None,\n",
    "                    account='chase',\n",
    "                    date=i['Post Date'],\n",
    "                    description=i['Description'],\n",
    "                    amount=i['Amount'],\n",
    "                    misc=None\n",
    "                )\n",
    "                db.insert(record)\n",
    "                count += 1\n",
    "    click.echo(f'Added Transactions: {count}')\n",
    "                      \n",
    "def select_transactions():\n",
    "    with data.database() as db:\n",
    "        existing = db.execute('''SELECT * FROM transactions''').fetchall()\n",
    "        for i in existing:\n",
    "            print(i)"
   ]
  },
  {
   "cell_type": "code",
   "execution_count": null,
   "metadata": {
    "scrolled": true
   },
   "outputs": [],
   "source": [
    "home_dir = Path.home()\n",
    "import_chase('chase_transactions.csv')"
   ]
  },
  {
   "cell_type": "code",
   "execution_count": null,
   "metadata": {},
   "outputs": [],
   "source": [
    "select_transactions()"
   ]
  },
  {
   "cell_type": "code",
   "execution_count": null,
   "metadata": {},
   "outputs": [],
   "source": [
    "imp.import_oldsecond('download.CSV')"
   ]
  },
  {
   "cell_type": "code",
   "execution_count": null,
   "metadata": {},
   "outputs": [],
   "source": [
    "string = Path(Path.home() / 'Documents' / 'GitHub' / '_appdata' / 'cli_money_tool').mkdir(parents=True, exist_ok=True)"
   ]
  },
  {
   "cell_type": "code",
   "execution_count": null,
   "metadata": {},
   "outputs": [],
   "source": [
    "print(string)"
   ]
  }
 ],
 "metadata": {
  "kernelspec": {
   "display_name": "Python 3",
   "language": "python",
   "name": "python3"
  },
  "language_info": {
   "codemirror_mode": {
    "name": "ipython",
    "version": 3
   },
   "file_extension": ".py",
   "mimetype": "text/x-python",
   "name": "python",
   "nbconvert_exporter": "python",
   "pygments_lexer": "ipython3",
   "version": "3.6.5"
  }
 },
 "nbformat": 4,
 "nbformat_minor": 4
}
